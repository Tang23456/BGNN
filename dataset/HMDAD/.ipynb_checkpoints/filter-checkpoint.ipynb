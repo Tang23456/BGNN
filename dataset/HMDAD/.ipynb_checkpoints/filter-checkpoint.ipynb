{
 "cells": [
  {
   "cell_type": "code",
   "execution_count": 1,
   "id": "a63c5f0d-f952-4e6c-966b-2b7c2a5c6ba5",
   "metadata": {},
   "outputs": [
    {
     "name": "stdout",
     "output_type": "stream",
     "text": [
      "新的疾病相似度矩阵已生成并保存为 complete_disease_similarity_matrix.csv\n"
     ]
    }
   ],
   "source": [
    "import pandas as pd\n",
    "import numpy as np\n",
    "\n",
    "# 读取疾病编码文件\n",
    "disease_codes = pd.read_excel('disease.xlsx')\n",
    "\n",
    "# 读取已有的相似度矩阵\n",
    "similarity_matrix = pd.read_csv('./化学-疾病/processed_disease_similarity_matrix.csv', index_col=0)\n",
    "\n",
    "# 获取疾病列表和疾病编码\n",
    "disease_list = disease_codes['Disease'].tolist()\n",
    "disease_code_list = disease_codes['Code'].tolist()\n",
    "\n",
    "# 创建一个新的相似度矩阵，初始化为0\n",
    "n = len(disease_list)\n",
    "new_similarity_matrix = np.zeros((n, n))\n",
    "\n",
    "# 创建疾病名称到编码的映射\n",
    "disease_to_code = dict(zip(disease_codes['Disease'], disease_codes['Code']))\n",
    "\n",
    "# 用已有的数据填充新矩阵\n",
    "for i in range(n):\n",
    "    for j in range(n):\n",
    "        disease_i = disease_list[i]\n",
    "        disease_j = disease_list[j]\n",
    "        if disease_i in similarity_matrix.index and disease_j in similarity_matrix.columns:\n",
    "            new_similarity_matrix[i, j] = similarity_matrix.loc[disease_i, disease_j]\n",
    "\n",
    "# 将新矩阵转换为DataFrame并添加行列标签\n",
    "new_similarity_matrix_df = pd.DataFrame(new_similarity_matrix, index=disease_list, columns=disease_list)\n",
    "\n",
    "# 保存为CSV文件\n",
    "new_similarity_matrix_df.to_csv('./化学-疾病/complete_disease_similarity_matrix.csv')\n",
    "\n",
    "print(\"新的疾病相似度矩阵已生成并保存为 complete_disease_similarity_matrix.csv\")"
   ]
  },
  {
   "cell_type": "code",
   "execution_count": 2,
   "id": "6be496da-42fe-4beb-aaac-8d1f38bfe357",
   "metadata": {},
   "outputs": [
    {
     "name": "stdout",
     "output_type": "stream",
     "text": [
      "新的疾病相似度矩阵已生成并保存为 complete_disease_similarity_matrix.csv\n"
     ]
    }
   ],
   "source": [
    "import pandas as pd\n",
    "import numpy as np\n",
    "\n",
    "# 读取疾病编码文件\n",
    "disease_codes = pd.read_excel('disease.xlsx')\n",
    "\n",
    "# 读取已有的相似度矩阵\n",
    "similarity_matrix = pd.read_csv('./基因-疾病/processed_disease_similarity_matrix.csv', index_col=0)\n",
    "\n",
    "# 获取疾病列表和疾病编码\n",
    "disease_list = disease_codes['Disease'].tolist()\n",
    "disease_code_list = disease_codes['Code'].tolist()\n",
    "\n",
    "# 创建一个新的相似度矩阵，初始化为0\n",
    "n = len(disease_list)\n",
    "new_similarity_matrix = np.zeros((n, n))\n",
    "\n",
    "# 创建疾病名称到编码的映射\n",
    "disease_to_code = dict(zip(disease_codes['Disease'], disease_codes['Code']))\n",
    "\n",
    "# 用已有的数据填充新矩阵\n",
    "for i in range(n):\n",
    "    for j in range(n):\n",
    "        disease_i = disease_list[i]\n",
    "        disease_j = disease_list[j]\n",
    "        if disease_i in similarity_matrix.index and disease_j in similarity_matrix.columns:\n",
    "            new_similarity_matrix[i, j] = similarity_matrix.loc[disease_i, disease_j]\n",
    "\n",
    "# 将新矩阵转换为DataFrame并添加行列标签\n",
    "new_similarity_matrix_df = pd.DataFrame(new_similarity_matrix, index=disease_list, columns=disease_list)\n",
    "\n",
    "# 保存为CSV文件\n",
    "new_similarity_matrix_df.to_csv('./基因-疾病/complete_disease_similarity_matrix.csv')\n",
    "\n",
    "print(\"新的疾病相似度矩阵已生成并保存为 complete_disease_similarity_matrix.csv\")"
   ]
  },
  {
   "cell_type": "code",
   "execution_count": 3,
   "id": "8c6b4c6b-eea1-4255-b536-1ee257ae93d3",
   "metadata": {},
   "outputs": [
    {
     "name": "stdout",
     "output_type": "stream",
     "text": [
      "新的疾病相似度矩阵已生成并保存为 complete_disease_similarity_matrix.csv\n"
     ]
    }
   ],
   "source": [
    "import pandas as pd\n",
    "import numpy as np\n",
    "\n",
    "# 读取疾病编码文件\n",
    "disease_codes = pd.read_excel('disease.xlsx')\n",
    "\n",
    "# 读取已有的相似度矩阵\n",
    "similarity_matrix = pd.read_csv('./疾病-通路/processed_disease_similarity_matrix.csv', index_col=0)\n",
    "\n",
    "# 获取疾病列表和疾病编码\n",
    "disease_list = disease_codes['Disease'].tolist()\n",
    "disease_code_list = disease_codes['Code'].tolist()\n",
    "\n",
    "# 创建一个新的相似度矩阵，初始化为0\n",
    "n = len(disease_list)\n",
    "new_similarity_matrix = np.zeros((n, n))\n",
    "\n",
    "# 创建疾病名称到编码的映射\n",
    "disease_to_code = dict(zip(disease_codes['Disease'], disease_codes['Code']))\n",
    "\n",
    "# 用已有的数据填充新矩阵\n",
    "for i in range(n):\n",
    "    for j in range(n):\n",
    "        disease_i = disease_list[i]\n",
    "        disease_j = disease_list[j]\n",
    "        if disease_i in similarity_matrix.index and disease_j in similarity_matrix.columns:\n",
    "            new_similarity_matrix[i, j] = similarity_matrix.loc[disease_i, disease_j]\n",
    "\n",
    "# 将新矩阵转换为DataFrame并添加行列标签\n",
    "new_similarity_matrix_df = pd.DataFrame(new_similarity_matrix, index=disease_list, columns=disease_list)\n",
    "\n",
    "# 保存为CSV文件\n",
    "new_similarity_matrix_df.to_csv('./疾病-通路/complete_disease_similarity_matrix.csv')\n",
    "\n",
    "print(\"新的疾病相似度矩阵已生成并保存为 complete_disease_similarity_matrix.csv\")"
   ]
  },
  {
   "cell_type": "code",
   "execution_count": 4,
   "id": "a6184abb-e10a-4345-a14f-0e3e309d29fb",
   "metadata": {},
   "outputs": [
    {
     "name": "stdout",
     "output_type": "stream",
     "text": [
      "新的疾病相似度矩阵已生成并保存为 complete_disease_similarity_matrix.csv\n"
     ]
    }
   ],
   "source": [
    "import pandas as pd\n",
    "import numpy as np\n",
    "\n",
    "# 读取疾病编码文件\n",
    "disease_codes = pd.read_excel('disease.xlsx')\n",
    "\n",
    "# 读取已有的相似度矩阵\n",
    "similarity_matrix = pd.read_csv('./疾病-症状/disease_similarity_matrix.csv', index_col=0)\n",
    "\n",
    "# 获取疾病列表和疾病编码\n",
    "disease_list = disease_codes['Disease'].tolist()\n",
    "disease_code_list = disease_codes['Code'].tolist()\n",
    "\n",
    "# 创建一个新的相似度矩阵，初始化为0\n",
    "n = len(disease_list)\n",
    "new_similarity_matrix = np.zeros((n, n))\n",
    "\n",
    "# 创建疾病名称到编码的映射\n",
    "disease_to_code = dict(zip(disease_codes['Disease'], disease_codes['Code']))\n",
    "\n",
    "# 用已有的数据填充新矩阵\n",
    "for i in range(n):\n",
    "    for j in range(n):\n",
    "        disease_i = disease_list[i]\n",
    "        disease_j = disease_list[j]\n",
    "        if disease_i in similarity_matrix.index and disease_j in similarity_matrix.columns:\n",
    "            new_similarity_matrix[i, j] = similarity_matrix.loc[disease_i, disease_j]\n",
    "\n",
    "# 将新矩阵转换为DataFrame并添加行列标签\n",
    "new_similarity_matrix_df = pd.DataFrame(new_similarity_matrix, index=disease_list, columns=disease_list)\n",
    "\n",
    "# 保存为CSV文件\n",
    "new_similarity_matrix_df.to_csv('./疾病-症状/complete_disease_similarity_matrix.csv')\n",
    "\n",
    "print(\"新的疾病相似度矩阵已生成并保存为 complete_disease_similarity_matrix.csv\")"
   ]
  },
  {
   "cell_type": "code",
   "execution_count": 6,
   "id": "e6d8cac7-3fbe-4ca5-90c1-72c930231b81",
   "metadata": {},
   "outputs": [
    {
     "name": "stdout",
     "output_type": "stream",
     "text": [
      "新的微生物相似度矩阵已生成并保存为 complete_microbe_associations_ds2_matrix.csv\n"
     ]
    }
   ],
   "source": [
    "import pandas as pd\n",
    "import numpy as np\n",
    "\n",
    "# 读取微生物编码文件\n",
    "microbe_codes = pd.read_excel('microbe.xlsx')\n",
    "\n",
    "# 读取微生物相似度矩阵\n",
    "with open('./微生物-功能/associations_ds2_code.txt') as f:\n",
    "    lines = f.readlines()\n",
    "\n",
    "# 创建一个微生物名称到编码的映射\n",
    "microbe_to_code = dict(zip(microbe_codes['Microbe'], microbe_codes['Code']))\n",
    "\n",
    "# 提取相似度矩阵中的数据\n",
    "similarity_data = []\n",
    "for line in lines:\n",
    "    parts = line.strip().split('\\t')\n",
    "    similarity_data.append([float(x) for x in parts])\n",
    "\n",
    "# 获取微生物列表和微生物编码\n",
    "microbe_list = microbe_codes['Microbe'].tolist()\n",
    "microbe_code_list = microbe_codes['Code'].tolist()\n",
    "\n",
    "# 创建一个新的相似度矩阵，初始化为0\n",
    "n = len(microbe_list)\n",
    "new_similarity_matrix = np.zeros((n, n))\n",
    "\n",
    "# 用已有的数据填充新矩阵\n",
    "for data in similarity_data:\n",
    "    row_code = int(data[0])\n",
    "    if row_code in microbe_code_list:\n",
    "        row_idx = microbe_code_list.index(row_code)\n",
    "        for col_idx, value in enumerate(data[1:], start=1):\n",
    "            if col_idx < len(microbe_code_list):\n",
    "                col_code = microbe_code_list[col_idx]\n",
    "                if col_code in microbe_code_list:\n",
    "                    col_idx_in_matrix = microbe_code_list.index(col_code)\n",
    "                    new_similarity_matrix[row_idx, col_idx_in_matrix] = value\n",
    "\n",
    "# 将新矩阵转换为DataFrame并添加行列标签\n",
    "new_similarity_matrix_df = pd.DataFrame(new_similarity_matrix, index=microbe_list, columns=microbe_list)\n",
    "\n",
    "# 保存为CSV文件\n",
    "new_similarity_matrix_df.to_csv('./微生物-功能/complete_microbe_associations_ds2_matrix.csv')\n",
    "\n",
    "print(\"新的微生物相似度矩阵已生成并保存为 complete_microbe_associations_ds2_matrix.csv\")"
   ]
  },
  {
   "cell_type": "code",
   "execution_count": 7,
   "id": "e36a44c0-331d-4ab8-8d96-84a091355d27",
   "metadata": {},
   "outputs": [
    {
     "name": "stdout",
     "output_type": "stream",
     "text": [
      "新的微生物相似度矩阵已生成并保存为 complete_microbe_similarities_ds2_matrix.csv\n"
     ]
    }
   ],
   "source": [
    "import pandas as pd\n",
    "import numpy as np\n",
    "\n",
    "# 读取微生物编码文件\n",
    "microbe_codes = pd.read_excel('microbe.xlsx')\n",
    "\n",
    "# 读取微生物相似度矩阵\n",
    "with open('./微生物-功能/similarities_ds2_code.txt') as f:\n",
    "    lines = f.readlines()\n",
    "\n",
    "# 创建一个微生物名称到编码的映射\n",
    "microbe_to_code = dict(zip(microbe_codes['Microbe'], microbe_codes['Code']))\n",
    "\n",
    "# 提取相似度矩阵中的数据\n",
    "similarity_data = []\n",
    "for line in lines:\n",
    "    parts = line.strip().split('\\t')\n",
    "    similarity_data.append([float(x) for x in parts])\n",
    "\n",
    "# 获取微生物列表和微生物编码\n",
    "microbe_list = microbe_codes['Microbe'].tolist()\n",
    "microbe_code_list = microbe_codes['Code'].tolist()\n",
    "\n",
    "# 创建一个新的相似度矩阵，初始化为0\n",
    "n = len(microbe_list)\n",
    "new_similarity_matrix = np.zeros((n, n))\n",
    "\n",
    "# 用已有的数据填充新矩阵\n",
    "for data in similarity_data:\n",
    "    row_code = int(data[0])\n",
    "    if row_code in microbe_code_list:\n",
    "        row_idx = microbe_code_list.index(row_code)\n",
    "        for col_idx, value in enumerate(data[1:], start=1):\n",
    "            if col_idx < len(microbe_code_list):\n",
    "                col_code = microbe_code_list[col_idx]\n",
    "                if col_code in microbe_code_list:\n",
    "                    col_idx_in_matrix = microbe_code_list.index(col_code)\n",
    "                    new_similarity_matrix[row_idx, col_idx_in_matrix] = value\n",
    "\n",
    "# 将新矩阵转换为DataFrame并添加行列标签\n",
    "new_similarity_matrix_df = pd.DataFrame(new_similarity_matrix, index=microbe_list, columns=microbe_list)\n",
    "\n",
    "# 保存为CSV文件\n",
    "new_similarity_matrix_df.to_csv('./微生物-功能/complete_microbe_similarities_ds2_matrix.csv')\n",
    "\n",
    "print(\"新的微生物相似度矩阵已生成并保存为 complete_microbe_similarities_ds2_matrix.csv\")"
   ]
  },
  {
   "cell_type": "code",
   "execution_count": null,
   "id": "a7054a67-2518-46a5-90f2-bf7270a4777b",
   "metadata": {},
   "outputs": [],
   "source": []
  }
 ],
 "metadata": {
  "kernelspec": {
   "display_name": "Python 3 (ipykernel)",
   "language": "python",
   "name": "python3"
  },
  "language_info": {
   "codemirror_mode": {
    "name": "ipython",
    "version": 3
   },
   "file_extension": ".py",
   "mimetype": "text/x-python",
   "name": "python",
   "nbconvert_exporter": "python",
   "pygments_lexer": "ipython3",
   "version": "3.9.18"
  }
 },
 "nbformat": 4,
 "nbformat_minor": 5
}
